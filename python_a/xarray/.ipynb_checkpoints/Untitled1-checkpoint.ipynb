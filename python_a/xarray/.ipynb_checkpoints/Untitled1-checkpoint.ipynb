{
 "cells": [
  {
   "cell_type": "code",
   "execution_count": 3,
   "metadata": {},
   "outputs": [
    {
     "name": "stdout",
     "output_type": "stream",
     "text": [
      "model_marginals.txt  model_parms.txt\n"
     ]
    }
   ],
   "source": [
    "!ls dataIGoRineWVZWM1M_mdldata/models"
   ]
  },
  {
   "cell_type": "code",
   "execution_count": 5,
   "metadata": {},
   "outputs": [
    {
     "name": "stdout",
     "output_type": "stream",
     "text": [
      "modelpath :  /home/olivares/.local/share/igor/models\n",
      "Loading default IGoR model from path :  /home/olivares/.local/share/igor/models/human/tcr_beta/\n",
      "Parms filename:  /home/olivares/.local/share/igor/models/human/tcr_beta/models/model_parms.txt\n",
      "Margs filename:  /home/olivares/.local/share/igor/models/human/tcr_beta/models/model_marginals.txt\n",
      "--------------------------------------------------\n",
      "['v_choice', 'd_gene', 'j_choice', 'v_3_del', 'd_3_del', 'd_5_del', 'j_5_del', 'vd_ins', 'dj_ins', 'vd_dinucl', 'dj_dinucl']\n",
      "['v_choice', 'j_choice', 'd_gene', 'v_3_del', 'd_5_del', 'j_5_del', 'd_3_del', 'vd_ins', 'vd_dinucl', 'dj_ins', 'dj_dinucl']\n"
     ]
    }
   ],
   "source": [
    "import pygor3 as p3\n",
    "mdl = p3.IgorModel.load_default(\"human\", \"tcr_beta\")\n",
    "print([event.nickname for event in mdl.parms.Event_list]) \n",
    "\n",
    "events_ordered = mdl.parms.get_Event_list_sorted()\n",
    "print([event.nickname for event in events_ordered])\n"
   ]
  },
  {
   "cell_type": "code",
   "execution_count": 9,
   "metadata": {},
   "outputs": [
    {
     "name": "stdout",
     "output_type": "stream",
     "text": [
      "modelpath :  /home/olivares/.local/share/igor/models\n",
      "{'fln_genomicVs': '/home/olivares/.local/share/igor/models/human/tcr_beta//ref_genome/genomicVs.fasta', 'fln_genomicJs': '/home/olivares/.local/share/igor/models/human/tcr_beta//ref_genome/genomicJs.fasta', 'fln_genomicDs': '/home/olivares/.local/share/igor/models/human/tcr_beta//ref_genome/genomicDs.fasta', 'fln_V_gene_CDR3_anchors': '/home/olivares/.local/share/igor/models/human/tcr_beta//ref_genome/V_gene_CDR3_anchors.csv', 'fln_J_gene_CDR3_anchors': '/home/olivares/.local/share/igor/models/human/tcr_beta//ref_genome/J_gene_CDR3_anchors.csv'}\n"
     ]
    },
    {
     "data": {
      "text/plain": [
       "dict_keys(['V', 'J'])"
      ]
     },
     "execution_count": 9,
     "metadata": {},
     "output_type": "execute_result"
    }
   ],
   "source": [
    "genomes = p3.IgorRefGenome.load_default(\"human\", \"tcr_beta\")\n",
    "dicto = genomes.get_anchors_dict()\n",
    "dicto['V']"
   ]
  },
  {
   "cell_type": "code",
   "execution_count": 4,
   "metadata": {},
   "outputs": [
    {
     "ename": "KeyError",
     "evalue": "'v_choice'",
     "output_type": "error",
     "traceback": [
      "\u001b[0;31m---------------------------------------------------------------------------\u001b[0m",
      "\u001b[0;31mKeyError\u001b[0m                                  Traceback (most recent call last)",
      "\u001b[0;32m<ipython-input-4-24d3794f000c>\u001b[0m in \u001b[0;36m<module>\u001b[0;34m\u001b[0m\n\u001b[0;32m----> 1\u001b[0;31m \u001b[0mmdl\u001b[0m\u001b[0;34m.\u001b[0m\u001b[0manchors\u001b[0m\u001b[0;34m[\u001b[0m\u001b[0;34m'v_choice'\u001b[0m\u001b[0;34m]\u001b[0m\u001b[0;34m\u001b[0m\u001b[0;34m\u001b[0m\u001b[0m\n\u001b[0m",
      "\u001b[0;31mKeyError\u001b[0m: 'v_choice'"
     ]
    }
   ],
   "source": [
    "genomes.\n",
    "# mdl.anchors['v_choice']"
   ]
  },
  {
   "cell_type": "code",
   "execution_count": null,
   "metadata": {},
   "outputs": [],
   "source": []
  },
  {
   "cell_type": "code",
   "execution_count": 7,
   "metadata": {},
   "outputs": [
    {
     "name": "stdout",
     "output_type": "stream",
     "text": [
      "Writing model parms in file  dataIGoRZBg0XuCwTh_mdldata/models/model_parms.txt\n",
      "Writing model marginals in file  dataIGoRZBg0XuCwTh_mdldata/models/model_marginals.txt\n",
      "/home/olivares/.local/bin/igor -set_wd /home/olivares/programming-examples/python/xarray -batch dataIGoRZBg0XuCwTh -set_custom_model dataIGoRZBg0XuCwTh_mdldata/models/model_parms.txt dataIGoRZBg0XuCwTh_mdldata/models/model_marginals.txt -generate 5\n"
     ]
    },
    {
     "data": {
      "text/html": [
       "<div>\n",
       "<style scoped>\n",
       "    .dataframe tbody tr th:only-of-type {\n",
       "        vertical-align: middle;\n",
       "    }\n",
       "\n",
       "    .dataframe tbody tr th {\n",
       "        vertical-align: top;\n",
       "    }\n",
       "\n",
       "    .dataframe thead th {\n",
       "        text-align: right;\n",
       "    }\n",
       "</style>\n",
       "<table border=\"1\" class=\"dataframe\">\n",
       "  <thead>\n",
       "    <tr style=\"text-align: right;\">\n",
       "      <th></th>\n",
       "      <th>nt_sequence</th>\n",
       "    </tr>\n",
       "    <tr>\n",
       "      <th>seq_index</th>\n",
       "      <th></th>\n",
       "    </tr>\n",
       "  </thead>\n",
       "  <tbody>\n",
       "    <tr>\n",
       "      <th>0</th>\n",
       "      <td>GGTGCTGGAGTCTCCCAGACCCCCAGTAACAAGGTCACAGAGAAGG...</td>\n",
       "    </tr>\n",
       "    <tr>\n",
       "      <th>1</th>\n",
       "      <td>CATGCCAAAGTCACACAGACTCCAGGACATTTGGTCAAAGGAAAAG...</td>\n",
       "    </tr>\n",
       "    <tr>\n",
       "      <th>2</th>\n",
       "      <td>AATGCCGGCGTCATGCAGAACCCAAGACACCTGGTCAGGAGGAGGG...</td>\n",
       "    </tr>\n",
       "    <tr>\n",
       "      <th>3</th>\n",
       "      <td>AAGGCTGGAGTCACTCAAACTCCAAGATATCTGATCAAAACGAGAG...</td>\n",
       "    </tr>\n",
       "    <tr>\n",
       "      <th>4</th>\n",
       "      <td>GATGCTGGAATCACCCAGAGCCCAAGACACAAGGTCACAGAGACAG...</td>\n",
       "    </tr>\n",
       "  </tbody>\n",
       "</table>\n",
       "</div>"
      ],
      "text/plain": [
       "                                                 nt_sequence\n",
       "seq_index                                                   \n",
       "0          GGTGCTGGAGTCTCCCAGACCCCCAGTAACAAGGTCACAGAGAAGG...\n",
       "1          CATGCCAAAGTCACACAGACTCCAGGACATTTGGTCAAAGGAAAAG...\n",
       "2          AATGCCGGCGTCATGCAGAACCCAAGACACCTGGTCAGGAGGAGGG...\n",
       "3          AAGGCTGGAGTCACTCAAACTCCAAGATATCTGATCAAAACGAGAG...\n",
       "4          GATGCTGGAATCACCCAGAGCCCAAGACACAAGGTCACAGAGACAG..."
      ]
     },
     "execution_count": 7,
     "metadata": {},
     "output_type": "execute_result"
    }
   ],
   "source": [
    "df = p3.generate(5, mdl)\n",
    "df"
   ]
  },
  {
   "cell_type": "code",
   "execution_count": 11,
   "metadata": {},
   "outputs": [],
   "source": [
    "sequences_np = df['nt_sequence'].values"
   ]
  },
  {
   "cell_type": "code",
   "execution_count": 15,
   "metadata": {},
   "outputs": [
    {
     "name": "stdout",
     "output_type": "stream",
     "text": [
      "                                                 nt_sequence\n",
      "seq_index                                                   \n",
      "0          /home/olivares/.local/bin/igor -set_wd /home/o...\n",
      "1          /home/olivares/.local/bin/igor -set_wd /home/o...\n",
      "2          /home/olivares/.local/bin/igor -set_wd /home/o...\n",
      "3          /home/olivares/.local/bin/igor -set_wd /home/o...\n",
      "4          /home/olivares/.local/bin/igor -set_wd /home/o...\n"
     ]
    },
    {
     "ename": "AttributeError",
     "evalue": "'NoneType' object has no attribute 'fln_genomicVs'",
     "output_type": "error",
     "traceback": [
      "\u001b[0;31m---------------------------------------------------------------------------\u001b[0m",
      "\u001b[0;31mAttributeError\u001b[0m                            Traceback (most recent call last)",
      "\u001b[0;32m<ipython-input-15-8aea861821c3>\u001b[0m in \u001b[0;36m<module>\u001b[0;34m\u001b[0m\n\u001b[0;32m----> 1\u001b[0;31m \u001b[0mmdl0\u001b[0m \u001b[0;34m=\u001b[0m \u001b[0mp3\u001b[0m\u001b[0;34m.\u001b[0m\u001b[0minfer\u001b[0m\u001b[0;34m(\u001b[0m\u001b[0mdf\u001b[0m\u001b[0;34m,\u001b[0m \u001b[0mmdl\u001b[0m\u001b[0;34m)\u001b[0m\u001b[0;34m\u001b[0m\u001b[0;34m\u001b[0m\u001b[0m\n\u001b[0m",
      "\u001b[0;32m~/GitHub/statbiophys/pygor3/pygor3/IgorIO.py\u001b[0m in \u001b[0;36minfer\u001b[0;34m(input_sequences, mdl, batch_clean)\u001b[0m\n\u001b[1;32m   5730\u001b[0m     \u001b[0;32mtry\u001b[0m\u001b[0;34m:\u001b[0m\u001b[0;34m\u001b[0m\u001b[0;34m\u001b[0m\u001b[0m\n\u001b[1;32m   5731\u001b[0m \u001b[0;34m\u001b[0m\u001b[0m\n\u001b[0;32m-> 5732\u001b[0;31m         \u001b[0mtask\u001b[0m \u001b[0;34m=\u001b[0m \u001b[0mIgorTask\u001b[0m\u001b[0;34m(\u001b[0m\u001b[0migor_read_seqs\u001b[0m\u001b[0;34m=\u001b[0m\u001b[0minput_sequences\u001b[0m\u001b[0;34m,\u001b[0m \u001b[0mmdl\u001b[0m\u001b[0;34m=\u001b[0m\u001b[0mmdl\u001b[0m\u001b[0;34m)\u001b[0m\u001b[0;34m\u001b[0m\u001b[0;34m\u001b[0m\u001b[0m\n\u001b[0m\u001b[1;32m   5733\u001b[0m         \u001b[0;31m# task.extract genomes and anchors from mdl\u001b[0m\u001b[0;34m\u001b[0m\u001b[0;34m\u001b[0m\u001b[0;34m\u001b[0m\u001b[0m\n\u001b[1;32m   5734\u001b[0m         \u001b[0;31m# save it to the temporal task files\u001b[0m\u001b[0;34m\u001b[0m\u001b[0;34m\u001b[0m\u001b[0;34m\u001b[0m\u001b[0m\n",
      "\u001b[0;32m~/GitHub/statbiophys/pygor3/pygor3/IgorIO.py\u001b[0m in \u001b[0;36minfer\u001b[0;34m(input_sequences, mdl, batch_clean)\u001b[0m\n\u001b[1;32m   5728\u001b[0m def infer(input_sequences:Union[str, pd.DataFrame, np.ndarray, Path],\n\u001b[1;32m   5729\u001b[0m           mdl:IgorModel, batch_clean=True)->IgorModel:\n\u001b[0;32m-> 5730\u001b[0;31m     \u001b[0;32mtry\u001b[0m\u001b[0;34m:\u001b[0m\u001b[0;34m\u001b[0m\u001b[0;34m\u001b[0m\u001b[0m\n\u001b[0m\u001b[1;32m   5731\u001b[0m \u001b[0;34m\u001b[0m\u001b[0m\n\u001b[1;32m   5732\u001b[0m         \u001b[0mtask\u001b[0m \u001b[0;34m=\u001b[0m \u001b[0mIgorTask\u001b[0m\u001b[0;34m(\u001b[0m\u001b[0migor_read_seqs\u001b[0m\u001b[0;34m=\u001b[0m\u001b[0minput_sequences\u001b[0m\u001b[0;34m,\u001b[0m \u001b[0mmdl\u001b[0m\u001b[0;34m=\u001b[0m\u001b[0mmdl\u001b[0m\u001b[0;34m)\u001b[0m\u001b[0;34m\u001b[0m\u001b[0;34m\u001b[0m\u001b[0m\n",
      "\u001b[0;32m~/GitHub/statbiophys/pygor3/pygor3/IgorIO.py\u001b[0m in \u001b[0;36mrun_infer\u001b[0;34m(self, igor_read_seqs)\u001b[0m\n\u001b[1;32m   4363\u001b[0m             self.mdl = IgorModel(model_parms_file=self.igor_model_parms_file,\n\u001b[1;32m   4364\u001b[0m                                  model_marginals_file=self.igor_model_marginals_file)\n\u001b[0;32m-> 4365\u001b[0;31m             \u001b[0;31m# output = run_command(cmd)\u001b[0m\u001b[0;34m\u001b[0m\u001b[0;34m\u001b[0m\u001b[0;34m\u001b[0m\u001b[0m\n\u001b[0m\u001b[1;32m   4366\u001b[0m             \u001b[0moutput\u001b[0m \u001b[0;34m=\u001b[0m \u001b[0mrun_command_print\u001b[0m\u001b[0;34m(\u001b[0m\u001b[0mcmd\u001b[0m\u001b[0;34m)\u001b[0m\u001b[0;34m\u001b[0m\u001b[0;34m\u001b[0m\u001b[0m\n\u001b[1;32m   4367\u001b[0m             \u001b[0;31m# run_command_no_output(cmd)\u001b[0m\u001b[0;34m\u001b[0m\u001b[0;34m\u001b[0m\u001b[0;34m\u001b[0m\u001b[0m\n",
      "\u001b[0;32m~/GitHub/statbiophys/pygor3/pygor3/IgorIO.py\u001b[0m in \u001b[0;36mrun_infer\u001b[0;34m(self, igor_read_seqs)\u001b[0m\n\u001b[1;32m   4339\u001b[0m         \u001b[0;31m# -evaluate -output --scenarios 10\"\u001b[0m\u001b[0;34m\u001b[0m\u001b[0;34m\u001b[0m\u001b[0;34m\u001b[0m\u001b[0m\n\u001b[1;32m   4340\u001b[0m \u001b[0;34m\u001b[0m\u001b[0m\n\u001b[0;32m-> 4341\u001b[0;31m         \u001b[0;32mtry\u001b[0m\u001b[0;34m:\u001b[0m\u001b[0;34m\u001b[0m\u001b[0;34m\u001b[0m\u001b[0m\n\u001b[0m\u001b[1;32m   4342\u001b[0m             \u001b[0;32mif\u001b[0m \u001b[0migor_read_seqs\u001b[0m \u001b[0;32mis\u001b[0m \u001b[0;32mnot\u001b[0m \u001b[0;32mNone\u001b[0m\u001b[0;34m:\u001b[0m\u001b[0;34m\u001b[0m\u001b[0;34m\u001b[0m\u001b[0m\n\u001b[1;32m   4343\u001b[0m                 \u001b[0mself\u001b[0m\u001b[0;34m.\u001b[0m\u001b[0migor_read_seqs\u001b[0m \u001b[0;34m=\u001b[0m \u001b[0migor_read_seqs\u001b[0m\u001b[0;34m\u001b[0m\u001b[0;34m\u001b[0m\u001b[0m\n",
      "\u001b[0;32m~/GitHub/statbiophys/pygor3/pygor3/IgorIO.py\u001b[0m in \u001b[0;36mrun_align\u001b[0;34m(self, igor_read_seqs)\u001b[0m\n\u001b[1;32m   4152\u001b[0m         \u001b[0mcmd\u001b[0m \u001b[0;34m=\u001b[0m \u001b[0mcmd\u001b[0m \u001b[0;34m+\u001b[0m \u001b[0;34m\" -set_wd \"\u001b[0m \u001b[0;34m+\u001b[0m \u001b[0mself\u001b[0m\u001b[0;34m.\u001b[0m\u001b[0migor_wd\u001b[0m\u001b[0;34m\u001b[0m\u001b[0;34m\u001b[0m\u001b[0m\n\u001b[1;32m   4153\u001b[0m         \u001b[0mcmd\u001b[0m \u001b[0;34m=\u001b[0m \u001b[0mcmd\u001b[0m \u001b[0;34m+\u001b[0m \u001b[0;34m\" -batch \"\u001b[0m \u001b[0;34m+\u001b[0m \u001b[0mself\u001b[0m\u001b[0;34m.\u001b[0m\u001b[0migor_batchname\u001b[0m\u001b[0;34m\u001b[0m\u001b[0;34m\u001b[0m\u001b[0m\n\u001b[0;32m-> 4154\u001b[0;31m         \u001b[0;31m# TODO: USE COSTUM MODEL OR USE SPECIFIED SPECIES?\u001b[0m\u001b[0;34m\u001b[0m\u001b[0;34m\u001b[0m\u001b[0;34m\u001b[0m\u001b[0m\n\u001b[0m\u001b[1;32m   4155\u001b[0m         \u001b[0;31m# I think that the safests is to use the\u001b[0m\u001b[0;34m\u001b[0m\u001b[0;34m\u001b[0m\u001b[0;34m\u001b[0m\u001b[0m\n\u001b[1;32m   4156\u001b[0m         \u001b[0;31m# FIXME: CHANGE TO CUSTOM GENOMICS\u001b[0m\u001b[0;34m\u001b[0m\u001b[0;34m\u001b[0m\u001b[0;34m\u001b[0m\u001b[0m\n",
      "\u001b[0;31mAttributeError\u001b[0m: 'NoneType' object has no attribute 'fln_genomicVs'"
     ]
    }
   ],
   "source": [
    "mdl0 = p3.infer(df, mdl)"
   ]
  },
  {
   "cell_type": "code",
   "execution_count": null,
   "metadata": {},
   "outputs": [],
   "source": []
  },
  {
   "cell_type": "code",
   "execution_count": 4,
   "metadata": {},
   "outputs": [
    {
     "name": "stdout",
     "output_type": "stream",
     "text": [
      "Batch name set to: dataIGoRineWVZWM1M_\n",
      "GeneChoice read\n",
      "GeneChoice read\n",
      "GeneChoice read\n",
      "Deletion read\n",
      "Deletion read\n",
      "Deletion read\n",
      "Deletion read\n",
      "Insertion read\n",
      "Insertion read\n",
      "DinucMarkov read\n",
      "DinucMarkov read\n",
      "Working directory set to: \"/home/olivares/programming-examples/python/xarray/\"\n",
      "Seed: 5034325664136579413\n",
      "terminate called after throwing an instance of 'std::out_of_range'     ] 0.000 %\n",
      "  what():  _Map_base::at\n"
     ]
    }
   ],
   "source": [
    "!/home/olivares/.local/bin/igor -set_wd /home/olivares/programming-examples/python/xarray -batch dataIGoRineWVZWM1M -set_custom_model dataIGoRineWVZWM1M_mdldata/models/model_parms.txt dataIGoRineWVZWM1M_mdldata/models/model_marginals.txt -generate 10"
   ]
  },
  {
   "cell_type": "code",
   "execution_count": 16,
   "metadata": {},
   "outputs": [
    {
     "data": {
      "text/plain": [
       "<pygor3.IgorIO.IgorModel at 0x7fe065827710>"
      ]
     },
     "execution_count": 16,
     "metadata": {},
     "output_type": "execute_result"
    }
   ],
   "source": [
    "mdl"
   ]
  },
  {
   "cell_type": "code",
   "execution_count": 17,
   "metadata": {},
   "outputs": [
    {
     "ename": "AttributeError",
     "evalue": "'IgorModel' object has no attribute 'anchors'",
     "output_type": "error",
     "traceback": [
      "\u001b[0;31m---------------------------------------------------------------------------\u001b[0m",
      "\u001b[0;31mAttributeError\u001b[0m                            Traceback (most recent call last)",
      "\u001b[0;32m<ipython-input-17-9a3423666dc7>\u001b[0m in \u001b[0;36m<module>\u001b[0;34m\u001b[0m\n\u001b[0;32m----> 1\u001b[0;31m \u001b[0mmdl\u001b[0m\u001b[0;34m.\u001b[0m\u001b[0manchors\u001b[0m\u001b[0;34m\u001b[0m\u001b[0;34m\u001b[0m\u001b[0m\n\u001b[0m",
      "\u001b[0;31mAttributeError\u001b[0m: 'IgorModel' object has no attribute 'anchors'"
     ]
    }
   ],
   "source": [
    "mdl.anchors['v_choice']"
   ]
  },
  {
   "cell_type": "code",
   "execution_count": null,
   "metadata": {},
   "outputs": [],
   "source": []
  }
 ],
 "metadata": {
  "kernelspec": {
   "display_name": "Python 3",
   "language": "python",
   "name": "python3"
  },
  "language_info": {
   "codemirror_mode": {
    "name": "ipython",
    "version": 3
   },
   "file_extension": ".py",
   "mimetype": "text/x-python",
   "name": "python",
   "nbconvert_exporter": "python",
   "pygments_lexer": "ipython3",
   "version": "3.7.9"
  }
 },
 "nbformat": 4,
 "nbformat_minor": 4
}
