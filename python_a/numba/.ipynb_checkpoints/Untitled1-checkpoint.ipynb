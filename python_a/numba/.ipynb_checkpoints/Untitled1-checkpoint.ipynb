{
 "cells": [
  {
   "cell_type": "code",
   "execution_count": 1,
   "metadata": {},
   "outputs": [],
   "source": [
    "from pygor3 import *"
   ]
  },
  {
   "cell_type": "code",
   "execution_count": null,
   "metadata": {},
   "outputs": [],
   "source": [
    "def observable_CDR3_len(ps_scenario):\n",
    "    v_choice = mdl.realization(ps_scenario, 'v_choice')\n",
    "    v_3_del = mdl.realization(ps_scenario, 'v_3_del')\n",
    "    d_gene = mdl.realization(ps_scenario, 'd_gene')\n",
    "    vd_ins = mdl.realization(ps_scenario, 'vd_ins')\n",
    "    d_5_del = mdl.realization(ps_scenario, 'd_5_del')\n",
    "    d_3_del = mdl.realization(ps_scenario, 'd_3_del')\n",
    "    j_5_del = mdl.realization(ps_scenario, 'j_5_del')\n",
    "    j_choice = mdl.realization(ps_scenario, 'j_choice')\n",
    "\n",
    "    try:\n",
    "        # v_anchor = mdl.V_anchors.loc[v_choice.id]\n",
    "        v_anchor = mdl.V_anchor(v_choice.id)\n",
    "        j_anchor = mdl.V_anchor(j_choice.id)\n",
    "        cdr3_V_len = len(v_choice.value) - v_anchor - v_3_del.value\n",
    "        cdr3_VD_len = vd_ins.value\n",
    "        cdr3_D_len = len(d_gene.value) - d_5_del.value - d_3_del.value\n",
    "        cdr3_DJ_len = dj_ins.value\n",
    "        cdr3_J_len = j_anchor - j_5_del.value\n",
    "\n",
    "        return cdr3_V_len + cdr3_VD_len + cdr3_D_len + cdr3_DJ_len + cdr3_J_len\n",
    "\n",
    "    except Exception as e:\n",
    "        return None # FIXME: what to do in these cases, this will change the normalization."
   ]
  }
 ],
 "metadata": {
  "kernelspec": {
   "display_name": "Python 3",
   "language": "python",
   "name": "python3"
  },
  "language_info": {
   "codemirror_mode": {
    "name": "ipython",
    "version": 3
   },
   "file_extension": ".py",
   "mimetype": "text/x-python",
   "name": "python",
   "nbconvert_exporter": "python",
   "pygments_lexer": "ipython3",
   "version": "3.7.9"
  }
 },
 "nbformat": 4,
 "nbformat_minor": 4
}
