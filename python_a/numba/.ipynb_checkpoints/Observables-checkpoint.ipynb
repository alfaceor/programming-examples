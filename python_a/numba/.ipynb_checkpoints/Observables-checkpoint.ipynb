{
 "cells": [
  {
   "cell_type": "code",
   "execution_count": 83,
   "metadata": {},
   "outputs": [
    {
     "name": "stdout",
     "output_type": "stream",
     "text": [
      "modelpath :  /home/olivares/.local/share/igor/models\n",
      "modelpath :  /home/olivares/.local/share/igor/models\n",
      "Parms filename:  /home/olivares/.local/share/igor/models/human/tcr_beta/models/model_parms.txt\n",
      "Marginals filename:  /home/olivares/.local/share/igor/models/human/tcr_beta/models/model_marginals.txt\n",
      "modelpath :  /home/olivares/.local/share/igor/models\n"
     ]
    }
   ],
   "source": [
    "from numba import njit\n",
    "from pygor3 import *\n",
    "import matplotlib.pyplot as plt\n",
    "\n",
    "mdl = IgorModel.load_default(\"human\", \"tcr_beta\")"
   ]
  },
  {
   "cell_type": "code",
   "execution_count": 84,
   "metadata": {},
   "outputs": [],
   "source": [
    "@njit\n",
    "def observable_003(ps_scenario):\n",
    "    v_choice = mdl.parms.get_Event_realization('v_choice', ps_scenario['v_choice'])\n",
    "    v_3_del = mdl.parms.get_Event_realization('v_3_del', ps_scenario['v_3_del'])\n",
    "    v_anchor = mdl.V_anchors.loc[v_choice.id]\n",
    "    j_choice = mdl.parms['j_choice'].loc[ps_scenario['j_choice']]\n",
    "\n",
    "    return len(v_choice.value) - v_anchor - v_3_del.value"
   ]
  },
  {
   "cell_type": "code",
   "execution_count": 85,
   "metadata": {},
   "outputs": [
    {
     "name": "stdout",
     "output_type": "stream",
     "text": [
      "Writing model parms in file  ./igor_generating_c1q04pec/dataIGoR7coXDXGYDb_mdldata/models/model_parms.txt\n",
      "Writing model marginals in file  ./igor_generating_c1q04pec/dataIGoR7coXDXGYDb_mdldata/models/model_marginals.txt\n",
      "Writing model parms in file  ./igor_generating_c1q04pec/dataIGoR7coXDXGYDb_mdldata//models/model_parms.txt\n",
      "Writing model marginals in file  ./igor_generating_c1q04pec/dataIGoR7coXDXGYDb_mdldata//models/model_marginals.txt\n",
      "/home/olivares/.local/bin/igor -set_wd ./igor_generating_c1q04pec -batch dataIGoR7coXDXGYDb -set_custom_model ./igor_generating_c1q04pec/dataIGoR7coXDXGYDb_mdldata//models/model_parms.txt ./igor_generating_c1q04pec/dataIGoR7coXDXGYDb_mdldata//models/model_marginals.txt -set_CDR3_anchors  --V ./igor_generating_c1q04pec/dataIGoR7coXDXGYDb_mdldata//ref_genome/V_gene_CDR3_anchors.csv --J ./igor_generating_c1q04pec/dataIGoR7coXDXGYDb_mdldata//ref_genome/J_gene_CDR3_anchors.csv -generate 4000  --seed 10 \n"
     ]
    }
   ],
   "source": [
    "sequences = generate(4000, mdl=mdl, seed=10)"
   ]
  },
  {
   "cell_type": "code",
   "execution_count": null,
   "metadata": {},
   "outputs": [
    {
     "name": "stdout",
     "output_type": "stream",
     "text": [
      "Writing model parms in file  ./igor_evaluating_q_6yoe3x/dataIGoRkpiP8FCzk6_mdldata/models/model_parms.txt\n",
      "Writing model marginals in file  ./igor_evaluating_q_6yoe3x/dataIGoRkpiP8FCzk6_mdldata/models/model_marginals.txt\n",
      "/home/olivares/.local/bin/igor -set_wd ./igor_evaluating_q_6yoe3x -batch dataIGoRkpiP8FCzk6 -read_seqs ./igor_evaluating_q_6yoe3x/dataIGoRkpiP8FCzk6input_sequences.csv\n",
      "/home/olivares/.local/bin/igor -set_wd ./igor_evaluating_q_6yoe3x -batch dataIGoRkpiP8FCzk6 -set_genomic  --V ./igor_evaluating_q_6yoe3x/dataIGoRkpiP8FCzk6_mdldata/ref_genome/genomicVs.fasta --D ./igor_evaluating_q_6yoe3x/dataIGoRkpiP8FCzk6_mdldata/ref_genome/genomicDs.fasta --J ./igor_evaluating_q_6yoe3x/dataIGoRkpiP8FCzk6_mdldata/ref_genome/genomicJs.fasta -set_CDR3_anchors  --V ./igor_evaluating_q_6yoe3x/dataIGoRkpiP8FCzk6_mdldata/ref_genome/V_gene_CDR3_anchors.csv --J ./igor_evaluating_q_6yoe3x/dataIGoRkpiP8FCzk6_mdldata/ref_genome/J_gene_CDR3_anchors.csv -align  --all  \n"
     ]
    }
   ],
   "source": [
    "df_scenarios = evaluate(sequences, mdl, N_scenarios=3, airr_format=False)"
   ]
  },
  {
   "cell_type": "code",
   "execution_count": null,
   "metadata": {},
   "outputs": [],
   "source": [
    "%%time\n",
    "df_scenarios['norm_scenario_proba_cond_seq'] = get_df_normalize_prob(df_scenarios)"
   ]
  },
  {
   "cell_type": "code",
   "execution_count": null,
   "metadata": {},
   "outputs": [],
   "source": []
  },
  {
   "cell_type": "code",
   "execution_count": null,
   "metadata": {},
   "outputs": [],
   "source": [
    "def observable_V_segment(ps_scenario):\n",
    "    v_choice = mdl.get_IgorEvent_realization_for_nickname(ps_scenario, 'v_choice')\n",
    "    v_3_del = mdl.get_IgorEvent_realization_for_nickname(ps_scenario, 'v_3_del')\n",
    "    try:\n",
    "        v_anchor = mdl.V_anchors.loc[v_choice.id]\n",
    "    except KeyError as e:\n",
    "        return np.nan\n",
    "    return len(v_choice.value) - v_anchor - v_3_del.value"
   ]
  },
  {
   "cell_type": "code",
   "execution_count": 78,
   "metadata": {},
   "outputs": [
    {
     "name": "stdout",
     "output_type": "stream",
     "text": [
      "CPU times: user 663 ms, sys: 15.8 ms, total: 679 ms\n",
      "Wall time: 658 ms\n"
     ]
    }
   ],
   "source": [
    "%%time\n",
    "df_scenarios['observable'] = df_scenarios.apply(lambda row: observable_V_segment(row), axis=1)"
   ]
  },
  {
   "cell_type": "code",
   "execution_count": 79,
   "metadata": {},
   "outputs": [
    {
     "data": {
      "text/plain": [
       "seq_index\n",
       "890   NaN\n",
       "890   NaN\n",
       "890   NaN\n",
       "715   NaN\n",
       "715   NaN\n",
       "715   NaN\n",
       "660   NaN\n",
       "660   NaN\n",
       "660   NaN\n",
       "Name: observable, dtype: float64"
      ]
     },
     "execution_count": 79,
     "metadata": {},
     "output_type": "execute_result"
    }
   ],
   "source": [
    "# TODO: make a method from mdl.get_realization(nickname, pd_row)\n",
    "df_scenarios['observable'][~df_scenarios['observable'].notna()]"
   ]
  },
  {
   "cell_type": "code",
   "execution_count": 80,
   "metadata": {},
   "outputs": [
    {
     "data": {
      "text/html": [
       "<div>\n",
       "<style scoped>\n",
       "    .dataframe tbody tr th:only-of-type {\n",
       "        vertical-align: middle;\n",
       "    }\n",
       "\n",
       "    .dataframe tbody tr th {\n",
       "        vertical-align: top;\n",
       "    }\n",
       "\n",
       "    .dataframe thead th {\n",
       "        text-align: right;\n",
       "    }\n",
       "</style>\n",
       "<table border=\"1\" class=\"dataframe\">\n",
       "  <thead>\n",
       "    <tr style=\"text-align: right;\">\n",
       "      <th></th>\n",
       "      <th>scenario_rank</th>\n",
       "      <th>scenario_proba_cond_seq</th>\n",
       "      <th>v_choice</th>\n",
       "      <th>j_choice</th>\n",
       "      <th>d_gene</th>\n",
       "      <th>v_3_del</th>\n",
       "      <th>d_5_del</th>\n",
       "      <th>j_5_del</th>\n",
       "      <th>d_3_del</th>\n",
       "      <th>vd_ins</th>\n",
       "      <th>vd_dinucl</th>\n",
       "      <th>dj_ins</th>\n",
       "      <th>dj_dinucl</th>\n",
       "      <th>Mismatches</th>\n",
       "      <th>norm_scenario_proba_cond_seq</th>\n",
       "      <th>observable</th>\n",
       "    </tr>\n",
       "    <tr>\n",
       "      <th>seq_index</th>\n",
       "      <th></th>\n",
       "      <th></th>\n",
       "      <th></th>\n",
       "      <th></th>\n",
       "      <th></th>\n",
       "      <th></th>\n",
       "      <th></th>\n",
       "      <th></th>\n",
       "      <th></th>\n",
       "      <th></th>\n",
       "      <th></th>\n",
       "      <th></th>\n",
       "      <th></th>\n",
       "      <th></th>\n",
       "      <th></th>\n",
       "      <th></th>\n",
       "    </tr>\n",
       "  </thead>\n",
       "  <tbody>\n",
       "    <tr>\n",
       "      <th>890</th>\n",
       "      <td>1</td>\n",
       "      <td>0.230778</td>\n",
       "      <td>0</td>\n",
       "      <td>0</td>\n",
       "      <td>0</td>\n",
       "      <td>7</td>\n",
       "      <td>5</td>\n",
       "      <td>8</td>\n",
       "      <td>11</td>\n",
       "      <td>3</td>\n",
       "      <td>[3, 1, 0]</td>\n",
       "      <td>4</td>\n",
       "      <td>[3, 2, 0, 2]</td>\n",
       "      <td>[]</td>\n",
       "      <td>0.000477</td>\n",
       "      <td>NaN</td>\n",
       "    </tr>\n",
       "    <tr>\n",
       "      <th>890</th>\n",
       "      <td>2</td>\n",
       "      <td>0.169744</td>\n",
       "      <td>0</td>\n",
       "      <td>0</td>\n",
       "      <td>2</td>\n",
       "      <td>7</td>\n",
       "      <td>5</td>\n",
       "      <td>8</td>\n",
       "      <td>15</td>\n",
       "      <td>3</td>\n",
       "      <td>[3, 1, 0]</td>\n",
       "      <td>4</td>\n",
       "      <td>[3, 2, 0, 2]</td>\n",
       "      <td>[]</td>\n",
       "      <td>0.000351</td>\n",
       "      <td>NaN</td>\n",
       "    </tr>\n",
       "    <tr>\n",
       "      <th>890</th>\n",
       "      <td>3</td>\n",
       "      <td>0.083479</td>\n",
       "      <td>0</td>\n",
       "      <td>0</td>\n",
       "      <td>0</td>\n",
       "      <td>7</td>\n",
       "      <td>8</td>\n",
       "      <td>8</td>\n",
       "      <td>8</td>\n",
       "      <td>1</td>\n",
       "      <td>[3]</td>\n",
       "      <td>6</td>\n",
       "      <td>[3, 2, 0, 2, 1, 0]</td>\n",
       "      <td>[]</td>\n",
       "      <td>0.000172</td>\n",
       "      <td>NaN</td>\n",
       "    </tr>\n",
       "  </tbody>\n",
       "</table>\n",
       "</div>"
      ],
      "text/plain": [
       "           scenario_rank  scenario_proba_cond_seq  v_choice  j_choice  d_gene  \\\n",
       "seq_index                                                                       \n",
       "890                    1                 0.230778         0         0       0   \n",
       "890                    2                 0.169744         0         0       2   \n",
       "890                    3                 0.083479         0         0       0   \n",
       "\n",
       "           v_3_del  d_5_del  j_5_del  d_3_del  vd_ins  vd_dinucl  dj_ins  \\\n",
       "seq_index                                                                  \n",
       "890              7        5        8       11       3  [3, 1, 0]       4   \n",
       "890              7        5        8       15       3  [3, 1, 0]       4   \n",
       "890              7        8        8        8       1        [3]       6   \n",
       "\n",
       "                    dj_dinucl Mismatches  norm_scenario_proba_cond_seq  \\\n",
       "seq_index                                                                \n",
       "890              [3, 2, 0, 2]         []                      0.000477   \n",
       "890              [3, 2, 0, 2]         []                      0.000351   \n",
       "890        [3, 2, 0, 2, 1, 0]         []                      0.000172   \n",
       "\n",
       "           observable  \n",
       "seq_index              \n",
       "890               NaN  \n",
       "890               NaN  \n",
       "890               NaN  "
      ]
     },
     "execution_count": 80,
     "metadata": {},
     "output_type": "execute_result"
    }
   ],
   "source": [
    "df_scenarios.loc[890]"
   ]
  },
  {
   "cell_type": "code",
   "execution_count": 82,
   "metadata": {},
   "outputs": [
    {
     "name": "stdout",
     "output_type": "stream",
     "text": [
      "Help on method load_default in module pygor3.IgorIO:\n",
      "\n",
      "load_default(IgorSpecie, IgorChain, modelpath=None, ref_genome_path=None) method of builtins.type instance\n",
      "    :return: IgorModel loaded with the default location for specie and chain\n",
      "\n",
      "None\n",
      "12.422088274249997\n"
     ]
    },
    {
     "data": {
      "image/png": "[encoded data removed]",
      "text/plain": [
       "<Figure size 432x288 with 1 Axes>"
      ]
     },
     "metadata": {
      "needs_background": "light"
     },
     "output_type": "display_data"
    }
   ],
   "source": [
    "mean_value = np.multiply(df_scenarios['observable'], df_scenarios['norm_scenario_proba_cond_seq']).sum()\n",
    "\n",
    "hist, bin_edges = np.histogram(df_scenarios['observable'].dropna(), density=True)\n",
    "bins = 0.5*(bin_edges[:-1] + bin_edges[1:])\n",
    "fig, ax = plt.subplots()\n",
    "ax.plot(bins, hist, marker='o')\n",
    "\n",
    "df = df_scenarios.groupby('observable')['norm_scenario_proba_cond_seq'].sum()\n",
    "df.plot(ax=ax)\n",
    "\n",
    "# print(help(np.histogram))\n",
    "print(help(IgorModel.load_default))\n",
    "print(mean_value)"
   ]
  },
  {
   "cell_type": "code",
   "execution_count": 62,
   "metadata": {},
   "outputs": [
    {
     "name": "stdout",
     "output_type": "stream",
     "text": [
      "Help on method load_default in module pygor3.IgorIO:\n",
      "\n",
      "load_default(IgorSpecie, IgorChain, modelpath=None, ref_genome_path=None) method of builtins.type instance\n",
      "    :return: IgorModel loaded with the default location for specie and chain\n",
      "\n",
      "None\n",
      "12.422088274249997\n"
     ]
    },
    {
     "data": {
      "image/png": "[encoded data removed]",
      "text/plain": [
       "<Figure size 432x288 with 1 Axes>"
      ]
     },
     "metadata": {
      "needs_background": "light"
     },
     "output_type": "display_data"
    }
   ],
   "source": [
    "mean_value = np.multiply(df_scenarios['observable'], df_scenarios['norm_scenario_proba_cond_seq']).sum()\n",
    "\n",
    "hist, bin_edges = np.histogram(df_scenarios['observable'].dropna(), density=True)\n",
    "bins = 0.5*(bin_edges[:-1] + bin_edges[1:])\n",
    "fig, ax = plt.subplots()\n",
    "ax.plot(bins, hist, marker='o')\n",
    "\n",
    "df = df_scenarios.groupby('observable')['norm_scenario_proba_cond_seq'].sum()\n",
    "df.plot(ax=ax)\n",
    "\n",
    "# print(help(np.histogram))\n",
    "print(help(IgorModel.load_default))\n",
    "print(mean_value)"
   ]
  },
  {
   "cell_type": "code",
   "execution_count": 51,
   "metadata": {},
   "outputs": [
    {
     "data": {
      "text/plain": [
       "seq_index\n",
       "998    0.000867\n",
       "998    0.000085\n",
       "998    0.000048\n",
       "997    0.000578\n",
       "997    0.000277\n",
       "         ...   \n",
       "695    0.000288\n",
       "695    0.000248\n",
       "703    0.000486\n",
       "703    0.000322\n",
       "703    0.000191\n",
       "Name: norm_scenario_proba_cond_seq, Length: 3000, dtype: float64"
      ]
     },
     "execution_count": 51,
     "metadata": {},
     "output_type": "execute_result"
    }
   ],
   "source": [
    "# Now I want the probabilities\n",
    "df_scenarios['norm_scenario_proba_cond_seq']"
   ]
  },
  {
   "cell_type": "code",
   "execution_count": 58,
   "metadata": {},
   "outputs": [],
   "source": []
  },
  {
   "cell_type": "code",
   "execution_count": 59,
   "metadata": {},
   "outputs": [
    {
     "data": {
      "text/plain": [
       "<AxesSubplot:xlabel='observable'>"
      ]
     },
     "execution_count": 59,
     "metadata": {},
     "output_type": "execute_result"
    },
    {
     "data": {
      "image/png": "[encoded data removed]",
      "text/plain": [
       "<Figure size 432x288 with 1 Axes>"
      ]
     },
     "metadata": {
      "needs_background": "light"
     },
     "output_type": "display_data"
    }
   ],
   "source": [
    "df.plot()"
   ]
  },
  {
   "cell_type": "code",
   "execution_count": 53,
   "metadata": {},
   "outputs": [],
   "source": [
    "matrix = mdl.get_probability_matrix_from_event_list_and_scenarios_dataframe(['v_choice', 'j_choice'], df_scenarios)"
   ]
  },
  {
   "cell_type": "code",
   "execution_count": null,
   "metadata": {},
   "outputs": [],
   "source": []
  }
 ],
 "metadata": {
  "kernelspec": {
   "display_name": "Python 3",
   "language": "python",
   "name": "python3"
  },
  "language_info": {
   "codemirror_mode": {
    "name": "ipython",
    "version": 3
   },
   "file_extension": ".py",
   "mimetype": "text/x-python",
   "name": "python",
   "nbconvert_exporter": "python",
   "pygments_lexer": "ipython3",
   "version": "3.7.9"
  }
 },
 "nbformat": 4,
 "nbformat_minor": 4
}
